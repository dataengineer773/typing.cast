{
 "cells": [
  {
   "cell_type": "code",
   "execution_count": 1,
   "id": "ca680c21-8883-44dd-bcae-2836d9772281",
   "metadata": {},
   "outputs": [],
   "source": [
    "def cast(typ, val):\n",
    "    \"\"\"Cast a value to a type.\n",
    "    This returns the value unchanged. To the checker this\n",
    "    signals that the return value has the desgined type, but at\n",
    "    runtime we intentionally do not check anything (we want this\n",
    "    to be as fast as possible).\n",
    "    \"\"\"\n",
    "    return val"
   ]
  },
  {
   "cell_type": "code",
   "execution_count": 2,
   "id": "accb3c54-921c-4da8-bfcd-d7db548eeee4",
   "metadata": {},
   "outputs": [],
   "source": [
    "from typing import cast"
   ]
  },
  {
   "cell_type": "code",
   "execution_count": 3,
   "id": "9dafe5ce-2e6f-4fb0-b5a3-8d94844a22b1",
   "metadata": {},
   "outputs": [],
   "source": [
    "def find_first_str(a: list[object]) -> str:\n",
    "    index = next(i for i, x in  enumerate(a) if isinstance(x, str))\n",
    "    # We only get here if there is at lwast one string\n",
    "    return cast(str, a[index])"
   ]
  },
  {
   "cell_type": "code",
   "execution_count": null,
   "id": "d8c477c0-251c-4d5c-9bf4-996d511dd863",
   "metadata": {},
   "outputs": [],
   "source": []
  }
 ],
 "metadata": {
  "kernelspec": {
   "display_name": "Python 3 (ipykernel)",
   "language": "python",
   "name": "python3"
  },
  "language_info": {
   "codemirror_mode": {
    "name": "ipython",
    "version": 3
   },
   "file_extension": ".py",
   "mimetype": "text/x-python",
   "name": "python",
   "nbconvert_exporter": "python",
   "pygments_lexer": "ipython3",
   "version": "3.12.3"
  }
 },
 "nbformat": 4,
 "nbformat_minor": 5
}
